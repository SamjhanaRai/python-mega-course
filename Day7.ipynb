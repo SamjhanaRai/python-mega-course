{
 "cells": [
  {
   "cell_type": "markdown",
   "id": "6f76f531",
   "metadata": {},
   "source": [
    "# write a program to display all prime numbers without a range."
   ]
  },
  {
   "cell_type": "code",
   "execution_count": 5,
   "id": "dd8c4fcb",
   "metadata": {},
   "outputs": [
    {
     "name": "stdout",
     "output_type": "stream",
     "text": [
      "Enter lower value: 35\n",
      "Enter upper value: 67\n"
     ]
    }
   ],
   "source": [
    "l_value = int(input('Enter lower value: '))\n",
    "u_value = int(input('Enter upper value: '))"
   ]
  },
  {
   "cell_type": "code",
   "execution_count": 7,
   "id": "7a393882",
   "metadata": {},
   "outputs": [
    {
     "name": "stdout",
     "output_type": "stream",
     "text": [
      "37 41 43 47 53 59 61 67 "
     ]
    }
   ],
   "source": [
    "for i in range(l_value,u_value+1):\n",
    "    for j in range (2,i):\n",
    "        if i%j==0:\n",
    "            break\n",
    "    else:\n",
    "        print(i,end=' ')"
   ]
  },
  {
   "cell_type": "markdown",
   "id": "40af2d09",
   "metadata": {},
   "source": [
    "# Display fibonacci series up to 10 terms"
   ]
  },
  {
   "cell_type": "code",
   "execution_count": 9,
   "id": "8fc020f2",
   "metadata": {},
   "outputs": [
    {
     "name": "stdout",
     "output_type": "stream",
     "text": [
      "Enter the number of term: 10\n"
     ]
    }
   ],
   "source": [
    "n=int(input('Enter the number of term: '))"
   ]
  },
  {
   "cell_type": "code",
   "execution_count": 13,
   "id": "3908a9c8",
   "metadata": {},
   "outputs": [
    {
     "name": "stdout",
     "output_type": "stream",
     "text": [
      "0 1 1 2 3 5 8 13 21 34 "
     ]
    }
   ],
   "source": [
    "x,y=0,1\n",
    "print (x,y,end=' ')\n",
    "for i in range(1,n-1):\n",
    "    nxt=x+y\n",
    "    print(nxt,end=' ')\n",
    "    x=y\n",
    "    y=nxt"
   ]
  },
  {
   "cell_type": "markdown",
   "id": "65466bae",
   "metadata": {},
   "source": [
    "# find the factorial of a given number."
   ]
  },
  {
   "cell_type": "code",
   "execution_count": 3,
   "id": "086f7330",
   "metadata": {},
   "outputs": [
    {
     "name": "stdout",
     "output_type": "stream",
     "text": [
      "Enter a number8\n",
      "The factorial of',num,'is', factorial\n"
     ]
    }
   ],
   "source": [
    "num=int(input('Enter a number'))\n",
    "factorial=1\n",
    "if num < 0:\n",
    "    print('factorial does not exist for negative numbers')\n",
    "elif num ==0:\n",
    "    print('The factorial of 0 is 1')\n",
    "else:\n",
    "    #run loop 5times\n",
    "    for i in range(1,num+1):\n",
    "        #multiply factorial by current number\n",
    "        factorial=factorial*i\n",
    "    print(\"The factorial of',num,'is', factorial\")"
   ]
  },
  {
   "cell_type": "markdown",
   "id": "f6a1fb77",
   "metadata": {},
   "source": [
    "# Reverse a given integer number"
   ]
  },
  {
   "cell_type": "code",
   "execution_count": 5,
   "id": "a1e68cb7",
   "metadata": {},
   "outputs": [
    {
     "name": "stdout",
     "output_type": "stream",
     "text": [
      "Enter any number:20\n",
      "Reverse Number =  2\n"
     ]
    }
   ],
   "source": [
    "num=int(input('Enter any number:'))\n",
    "rev_num = 0\n",
    "while num>0:\n",
    "    rem=num%10\n",
    "    rev_num = rev_num*10+rem\n",
    "    num=num//10\n",
    "print('Reverse Number = ',rev_num)"
   ]
  },
  {
   "cell_type": "markdown",
   "id": "94b12f3a",
   "metadata": {},
   "source": [
    "# FUNCTION"
   ]
  },
  {
   "cell_type": "code",
   "execution_count": 6,
   "id": "dcdf276f",
   "metadata": {},
   "outputs": [],
   "source": [
    "def welcome():#defining function\n",
    "    print('Hello Hex')#printing function"
   ]
  },
  {
   "cell_type": "code",
   "execution_count": 7,
   "id": "20118b9d",
   "metadata": {},
   "outputs": [
    {
     "name": "stdout",
     "output_type": "stream",
     "text": [
      "Hello Hex\n"
     ]
    }
   ],
   "source": [
    "welcome()"
   ]
  },
  {
   "cell_type": "code",
   "execution_count": null,
   "id": "1cf58aef",
   "metadata": {},
   "outputs": [],
   "source": [
    "# def addition (x,y):\n",
    "    res=x+y\n",
    "    return res"
   ]
  },
  {
   "cell_type": "code",
   "execution_count": 9,
   "id": "666fbdf4",
   "metadata": {},
   "outputs": [
    {
     "data": {
      "text/plain": [
       "5"
      ]
     },
     "execution_count": 9,
     "metadata": {},
     "output_type": "execute_result"
    }
   ],
   "source": [
    "addition (2,3)"
   ]
  },
  {
   "cell_type": "code",
   "execution_count": 10,
   "id": "db81ea7b",
   "metadata": {},
   "outputs": [],
   "source": [
    "def fact(n):\n",
    "    if n ==1:\n",
    "        return 1\n",
    "    else:\n",
    "        return n*fact(n-1)"
   ]
  },
  {
   "cell_type": "code",
   "execution_count": 11,
   "id": "c2b0e239",
   "metadata": {},
   "outputs": [],
   "source": [
    "def fact(n):\n",
    "    res=1\n",
    "    for i in range(1,n+1):\n",
    "        res=res*i\n",
    "    return res"
   ]
  },
  {
   "cell_type": "code",
   "execution_count": 12,
   "id": "66a47c40",
   "metadata": {},
   "outputs": [
    {
     "data": {
      "text/plain": [
       "120"
      ]
     },
     "execution_count": 12,
     "metadata": {},
     "output_type": "execute_result"
    }
   ],
   "source": [
    "fact(5)"
   ]
  },
  {
   "cell_type": "markdown",
   "id": "bbc0e1c3",
   "metadata": {},
   "source": [
    "# Recursive Function"
   ]
  },
  {
   "cell_type": "code",
   "execution_count": 13,
   "id": "6f94d486",
   "metadata": {},
   "outputs": [],
   "source": [
    "def fact(n): #recursive function\n",
    "    if n==1:\n",
    "        return 1\n",
    "    else:\n",
    "        return n*fact(n-1)"
   ]
  },
  {
   "cell_type": "code",
   "execution_count": 14,
   "id": "758e593b",
   "metadata": {},
   "outputs": [
    {
     "data": {
      "text/plain": [
       "5040"
      ]
     },
     "execution_count": 14,
     "metadata": {},
     "output_type": "execute_result"
    }
   ],
   "source": [
    "fact(7)"
   ]
  },
  {
   "cell_type": "code",
   "execution_count": 15,
   "id": "bc501bbb",
   "metadata": {},
   "outputs": [],
   "source": [
    "def prime(l_value,u_value):\n",
    "    for i in range(l_value,u_value+1):\n",
    "        for j in range(2,i):\n",
    "            if i%j==0:\n",
    "                break\n",
    "        else:\n",
    "            print(i,end=' ')"
   ]
  },
  {
   "cell_type": "code",
   "execution_count": 16,
   "id": "379629a3",
   "metadata": {},
   "outputs": [
    {
     "name": "stdout",
     "output_type": "stream",
     "text": [
      "23 29 31 37 41 43 47 "
     ]
    }
   ],
   "source": [
    "prime(23,50)"
   ]
  },
  {
   "cell_type": "code",
   "execution_count": null,
   "id": "aba31e48",
   "metadata": {},
   "outputs": [],
   "source": []
  }
 ],
 "metadata": {
  "kernelspec": {
   "display_name": "Python 3 (ipykernel)",
   "language": "python",
   "name": "python3"
  },
  "language_info": {
   "codemirror_mode": {
    "name": "ipython",
    "version": 3
   },
   "file_extension": ".py",
   "mimetype": "text/x-python",
   "name": "python",
   "nbconvert_exporter": "python",
   "pygments_lexer": "ipython3",
   "version": "3.11.1"
  }
 },
 "nbformat": 4,
 "nbformat_minor": 5
}
