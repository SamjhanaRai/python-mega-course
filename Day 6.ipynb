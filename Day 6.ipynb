{
 "cells": [
  {
   "cell_type": "markdown",
   "id": "34cde0d7",
   "metadata": {},
   "source": [
    "# Loop"
   ]
  },
  {
   "cell_type": "markdown",
   "id": "1df9cb87",
   "metadata": {},
   "source": [
    "# while loop"
   ]
  },
  {
   "cell_type": "code",
   "execution_count": 1,
   "id": "92c7b329",
   "metadata": {},
   "outputs": [],
   "source": [
    "i=0"
   ]
  },
  {
   "cell_type": "code",
   "execution_count": 3,
   "id": "76f91dfd",
   "metadata": {},
   "outputs": [
    {
     "name": "stdout",
     "output_type": "stream",
     "text": [
      "Hello Hex\n",
      "Hello Hex\n",
      "Hello Hex\n",
      "Hello Hex\n",
      "Hello Hex\n"
     ]
    }
   ],
   "source": [
    "while i<5:\n",
    "    print ('Hello Hex')\n",
    "    i+=1"
   ]
  },
  {
   "cell_type": "markdown",
   "id": "8594fa35",
   "metadata": {},
   "source": [
    "# For loop"
   ]
  },
  {
   "cell_type": "code",
   "execution_count": 4,
   "id": "0977aa5e",
   "metadata": {},
   "outputs": [],
   "source": [
    "i=0\n"
   ]
  },
  {
   "cell_type": "code",
   "execution_count": 5,
   "id": "998184a1",
   "metadata": {},
   "outputs": [
    {
     "ename": "SyntaxError",
     "evalue": "invalid syntax (2306755979.py, line 1)",
     "output_type": "error",
     "traceback": [
      "\u001b[1;36m  Cell \u001b[1;32mIn[5], line 1\u001b[1;36m\u001b[0m\n\u001b[1;33m    for i<5:\u001b[0m\n\u001b[1;37m         ^\u001b[0m\n\u001b[1;31mSyntaxError\u001b[0m\u001b[1;31m:\u001b[0m invalid syntax\n"
     ]
    }
   ],
   "source": [
    "for i<5:\n",
    "    print('Hello Hex')\n",
    "    i+=1"
   ]
  },
  {
   "cell_type": "markdown",
   "id": "6d10d59f",
   "metadata": {},
   "source": [
    "print square of frist 10 natural numbers"
   ]
  },
  {
   "cell_type": "code",
   "execution_count": 10,
   "id": "6d8b6612",
   "metadata": {},
   "outputs": [
    {
     "name": "stdout",
     "output_type": "stream",
     "text": [
      "\n",
      "\n",
      "* \n",
      "\n",
      "* * \n",
      "\n",
      "* * * \n",
      "\n",
      "* * * * \n",
      "\n"
     ]
    }
   ],
   "source": [
    "for i in range(1,6):\n",
    "    for j in range(1,i):\n",
    "        print ('*',end=' ')\n",
    "    print('\\n')"
   ]
  },
  {
   "cell_type": "code",
   "execution_count": 12,
   "id": "3f68d9ba",
   "metadata": {},
   "outputs": [
    {
     "name": "stdout",
     "output_type": "stream",
     "text": [
      "0123456789"
     ]
    }
   ],
   "source": [
    "for i in range (10):\n",
    "    print(i,end='')"
   ]
  },
  {
   "cell_type": "code",
   "execution_count": 13,
   "id": "9efeb9c0",
   "metadata": {},
   "outputs": [
    {
     "name": "stdout",
     "output_type": "stream",
     "text": [
      "0\n",
      "1\n",
      "4\n",
      "9\n",
      "16\n",
      "25\n",
      "36\n",
      "49\n",
      "64\n",
      "81\n"
     ]
    }
   ],
   "source": [
    "for i in range(0,10):\n",
    "    print(i**2)\n"
   ]
  },
  {
   "cell_type": "code",
   "execution_count": 25,
   "id": "99610285",
   "metadata": {},
   "outputs": [
    {
     "name": "stdout",
     "output_type": "stream",
     "text": [
      "\n",
      "1 \n",
      "1 2 \n",
      "1 2 3 \n",
      "1 2 3 4 \n",
      "1 2 3 4 5 \n",
      "1 2 3 4 5 6 \n",
      "1 2 3 4 5 6 7 \n",
      "1 2 3 4 5 6 7 8 \n",
      "1 2 3 4 5 6 7 8 9 \n"
     ]
    }
   ],
   "source": [
    "for i in range (10):\n",
    "    for j in range (1,i+1):\n",
    "        print (j,end=' ')\n",
    "    print()"
   ]
  },
  {
   "cell_type": "code",
   "execution_count": 26,
   "id": "6103fa6c",
   "metadata": {},
   "outputs": [],
   "source": [
    "import random"
   ]
  },
  {
   "cell_type": "code",
   "execution_count": null,
   "id": "75db5116",
   "metadata": {},
   "outputs": [],
   "source": [
    "x= random.randint(1,10)"
   ]
  },
  {
   "cell_type": "code",
   "execution_count": null,
   "id": "366d753d",
   "metadata": {},
   "outputs": [],
   "source": [
    "X"
   ]
  },
  {
   "cell_type": "code",
   "execution_count": 2,
   "id": "2fd4ab1d",
   "metadata": {},
   "outputs": [],
   "source": [
    "import random as rd"
   ]
  },
  {
   "cell_type": "code",
   "execution_count": 3,
   "id": "0572c4aa",
   "metadata": {},
   "outputs": [
    {
     "name": "stdout",
     "output_type": "stream",
     "text": [
      "Enter a number:7\n",
      "Try Again\n",
      "Enter a number:9\n",
      "Try Again\n",
      "Enter a number:6\n",
      "Try Again\n",
      "Enter a number:2\n",
      "Try Again\n",
      "Enter a number:1\n",
      "Guess is correct\n",
      "Your score is 6\n"
     ]
    }
   ],
   "source": [
    "x=rd.randint(1,10)\n",
    "score=10\n",
    "while True:\n",
    "    y=int(input('Enter a number:'))\n",
    "    if y==x:\n",
    "        print('Guess is correct')\n",
    "        break\n",
    "    else:\n",
    "        print('Try Again')\n",
    "        score-=1\n",
    "print('Your score is',score)"
   ]
  },
  {
   "cell_type": "code",
   "execution_count": 4,
   "id": "0d512f55",
   "metadata": {
    "scrolled": true
   },
   "outputs": [
    {
     "name": "stdout",
     "output_type": "stream",
     "text": [
      "Enter a Number:10\n",
      "The sum  is 55\n"
     ]
    }
   ],
   "source": [
    "x=int(input('Enter a Number:'))\n",
    "sum=0\n",
    "for i in range (1,x+1):\n",
    "    sum+=i\n",
    "print('The sum  is',sum)"
   ]
  },
  {
   "cell_type": "code",
   "execution_count": 5,
   "id": "e372d772",
   "metadata": {},
   "outputs": [
    {
     "name": "stdout",
     "output_type": "stream",
     "text": [
      "Enter a Number:2\n",
      "The sum is 3.0\n"
     ]
    }
   ],
   "source": [
    "n=int(input('Enter a Number:'))\n",
    "sum=(n*(n+1))/2\n",
    "print('The sum is',sum)"
   ]
  },
  {
   "cell_type": "code",
   "execution_count": null,
   "id": "5194a9b0",
   "metadata": {},
   "outputs": [],
   "source": []
  }
 ],
 "metadata": {
  "kernelspec": {
   "display_name": "Python 3 (ipykernel)",
   "language": "python",
   "name": "python3"
  },
  "language_info": {
   "codemirror_mode": {
    "name": "ipython",
    "version": 3
   },
   "file_extension": ".py",
   "mimetype": "text/x-python",
   "name": "python",
   "nbconvert_exporter": "python",
   "pygments_lexer": "ipython3",
   "version": "3.11.1"
  }
 },
 "nbformat": 4,
 "nbformat_minor": 5
}
